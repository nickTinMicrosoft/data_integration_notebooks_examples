{
  "cells": [
    {
      "cell_type": "markdown",
      "metadata": {},
      "source": [
        "# Getting Data from Snowflake "
      ]
    },
    {
      "cell_type": "markdown",
      "metadata": {},
      "source": [
        "This notebook will connect to the snowflake account, and query the information_schema.tables Table.\n",
        "\n",
        "We will create two lists\n",
        "   - large_tables (Tables with  more than 400000 rows )\n",
        "   - small_tables (Tables with less than 400000 rows)\n",
        "\n",
        "Other notebooks will reference this notebook to perform the actual data loads. \n",
        "\n",
        "## **This Code was Built in a system that uses Apache Spark**"
      ]
    },
    {
      "cell_type": "markdown",
      "metadata": {},
      "source": [
        "----------------------------------------------------------"
      ]
    },
    {
      "cell_type": "markdown",
      "metadata": {},
      "source": [
        "### Install snowflake connectors"
      ]
    },
    {
      "cell_type": "code",
      "execution_count": null,
      "metadata": {},
      "outputs": [],
      "source": [
        "!pip install snowflake-connector-python\n",
        "!pip install snowflake-spark-connector"
      ]
    },
    {
      "cell_type": "code",
      "execution_count": null,
      "metadata": {
        "jupyter": {
          "outputs_hidden": false,
          "source_hidden": false
        },
        "nteract": {
          "transient": {
            "deleting": false
          }
        }
      },
      "outputs": [],
      "source": [
        "from pyspark.sql import SparkSession\n",
        "import snowflake.connector"
      ]
    },
    {
      "cell_type": "markdown",
      "metadata": {},
      "source": [
        "### Configure connection strings and connect to Snowflake"
      ]
    },
    {
      "cell_type": "code",
      "execution_count": null,
      "metadata": {
        "jupyter": {
          "outputs_hidden": false,
          "source_hidden": false
        },
        "nteract": {
          "transient": {
            "deleting": false
          }
        }
      },
      "outputs": [],
      "source": [
        "# Snowflake connection parameters\n",
        "conn_params = {\n",
        "    \"user\": \"USER NAME\",\n",
        "    \"password\": \"PASSWORD\",\n",
        "    \"account\": \"SNOWFLAKE ACCOUNT\",\n",
        "    \"warehouse\": \"WAREHOUSE NAME\",\n",
        "    \"database\": \"DATABASE NAME\",\n",
        "    \"schema\": \"SCHEMA NAME\"\n",
        "}\n",
        "\n",
        "# Connect to Snowflake\n",
        "conn = snowflake.connector.connect(**conn_params)\n",
        "cursor = conn.cursor()\n"
      ]
    },
    {
      "cell_type": "markdown",
      "metadata": {},
      "source": [
        "### Perform Queries on the Snowflake tables, and Store output into our Lists"
      ]
    },
    {
      "cell_type": "code",
      "execution_count": null,
      "metadata": {
        "jupyter": {
          "outputs_hidden": false,
          "source_hidden": false
        },
        "nteract": {
          "transient": {
            "deleting": false
          }
        }
      },
      "outputs": [],
      "source": [
        "# Get list of tables in the schema\n",
        "cursor.execute(\"SELECT table_name FROM information_schema.tables WHERE table_schema = 'RAW'\")\n",
        "tables = [row[0] for row in cursor.fetchall()]\n",
        "\n",
        "# Lists to store table classifications\n",
        "large_tables = []\n",
        "small_tables = []\n",
        "\n",
        "# Iterate over tables to get row counts\n",
        "for table in tables:\n",
        "    query = f'SELECT COUNT(*) FROM \"{table}\"'\n",
        "    cursor.execute(query)\n",
        "    row_count = cursor.fetchone()[0]  # Get row count\n",
        "    \n",
        "    # Classify tables\n",
        "    if row_count > 400000:\n",
        "        large_tables.append(table)\n",
        "    else:\n",
        "        small_tables.append(table)\n",
        "\n",
        "\n",
        "# Close connection\n",
        "# cursor.close()\n",
        "# conn.close()\n",
        "\n",
        "\n",
        "## !!!! Cursor is left open for further use in the notebook that calls this one !!!!"
      ]
    }
  ],
  "metadata": {
    "description": null,
    "kernelspec": {
      "display_name": "python",
      "name": "synapse_pyspark"
    },
    "language_info": {
      "name": "python"
    },
    "save_output": true,
    "synapse_widget": {
      "state": {},
      "version": "0.1"
    }
  },
  "nbformat": 4,
  "nbformat_minor": 2
}
